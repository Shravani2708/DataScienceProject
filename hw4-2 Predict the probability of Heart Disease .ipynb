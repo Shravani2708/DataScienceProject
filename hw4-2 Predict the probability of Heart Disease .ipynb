{
 "cells": [
  {
   "cell_type": "markdown",
   "metadata": {},
   "source": [
    "**A)Read the dataset file “Heart_short.csv” from github, and assign it to a Pandas DataFrame:**"
   ]
  },
  {
   "cell_type": "code",
   "execution_count": 10,
   "metadata": {},
   "outputs": [
    {
     "name": "stdout",
     "output_type": "stream",
     "text": [
      "281\n"
     ]
    }
   ],
   "source": [
    "# import library and packages\n",
    "import numpy as np\n",
    "import pandas as pd\n",
    "\n",
    "Heart_disease_df  = pd.read_csv(\"https://github.com/mpourhoma/CS4661/raw/master/Heart_short.csv\")\n",
    "Heart_disease_df.head()\n",
    "index = Heart_disease_df.index\n",
    "number_of_rows = len(index) \n",
    "print(number_of_rows)\n"
   ]
  },
  {
   "cell_type": "markdown",
   "metadata": {},
   "source": [
    "**B)Generate the feature matrix and label vector (AHD). Then, normalize (scale) the features.**"
   ]
  },
  {
   "cell_type": "code",
   "execution_count": 6,
   "metadata": {},
   "outputs": [
    {
     "name": "stdout",
     "output_type": "stream",
     "text": [
      "[[ 0.94788279  0.74978425 -0.25859799  1.04743633 -0.00919313  1.13182982]\n",
      " [ 1.38542704  1.59842565  0.75330422  1.04743633 -1.84813139  0.43550978]\n",
      " [ 1.38542704 -0.6646181  -0.33496796  1.04743633 -0.92866226  1.39294984]\n",
      " ...\n",
      " [ 0.29156641 -0.09885716 -2.20603242 -0.96851989 -1.54164168  0.17438976]\n",
      " [ 0.29156641 -0.09885716 -0.2013205   1.04743633  1.04162873 -0.8700903 ]\n",
      " [-1.78676878  0.35375159 -1.36596267 -0.96851989  0.99784448 -0.8700903 ]]\n"
     ]
    }
   ],
   "source": [
    "# Creating the Feature Matrix for heart disease dataset:\n",
    "\n",
    "# create a python list of feature names that would like to pick from the dataset:\n",
    "feature_cols = ['Age','RestBP','Chol','RestECG','MaxHR','Oldpeak']\n",
    "\n",
    "# use the above list to select the features from the original DataFrame\n",
    "X = Heart_disease_df[feature_cols]  \n",
    "\n",
    "# select a Series of labels (the last column) from the DataFrame\n",
    "y = Heart_disease_df['AHD']\n",
    "\n",
    "\n",
    "#Normalizing the data\n",
    "from sklearn import preprocessing \n",
    "scale_normalised = preprocessing.scale(X)\n",
    "print(scale_normalised)"
   ]
  },
  {
   "cell_type": "markdown",
   "metadata": {},
   "source": [
    "**C)Split the dataset into testing and training sets with the following parameters: test_size=0.25, random_state=3.**"
   ]
  },
  {
   "cell_type": "code",
   "execution_count": 7,
   "metadata": {},
   "outputs": [
    {
     "name": "stdout",
     "output_type": "stream",
     "text": [
      "(210, 6)\n",
      "(210,)\n",
      "(71, 6)\n",
      "(71,)\n"
     ]
    }
   ],
   "source": [
    "from sklearn.model_selection import train_test_split\n",
    "\n",
    "X_train, X_test, y_train, y_test = train_test_split(scale_normalised, y, test_size=0.25, random_state=3)\n",
    "#y_train, y_test = train_test_split( y, test_size=0.25, random_state=3)\n",
    "\n",
    "# print the size of the traning set:\n",
    "print(X_train.shape)\n",
    "print(y_train.shape)\n",
    "\n",
    "# print the size of the testing set:\n",
    "print(X_test.shape)\n",
    "print(y_test.shape)"
   ]
  },
  {
   "cell_type": "markdown",
   "metadata": {},
   "source": [
    "**D)Use Logistic Regression Classifier to predict Heart Disease occurrence based on the training/testing datasets that you built in part(c). Then, compute and report the Accuracy.**"
   ]
  },
  {
   "cell_type": "code",
   "execution_count": 4,
   "metadata": {},
   "outputs": [
    {
     "name": "stdout",
     "output_type": "stream",
     "text": [
      "['Yes' 'No' 'Yes' 'Yes' 'No' 'No' 'No' 'No' 'Yes' 'No' 'Yes' 'No' 'Yes'\n",
      " 'Yes' 'No' 'No' 'Yes' 'No' 'Yes' 'Yes' 'No' 'No' 'Yes' 'No' 'Yes' 'No'\n",
      " 'No' 'Yes' 'No' 'No' 'Yes' 'Yes' 'Yes' 'No' 'No' 'Yes' 'Yes' 'No' 'Yes'\n",
      " 'No' 'No' 'Yes' 'No' 'No' 'Yes' 'Yes' 'No' 'No' 'Yes' 'No' 'No' 'Yes'\n",
      " 'No' 'Yes' 'No' 'No' 'No' 'No' 'No' 'No' 'Yes' 'No' 'No' 'No' 'No' 'No'\n",
      " 'No' 'No' 'No' 'No' 'No']\n",
      "Accuracy of Logistic Regression: 0.7183098591549296\n"
     ]
    }
   ],
   "source": [
    "from sklearn.linear_model import LogisticRegression\n",
    "from sklearn.metrics import accuracy_score\n",
    "\n",
    "my_logreg = LogisticRegression()\n",
    "my_logreg.fit(X_train, y_train)\n",
    "y_predict_lr = my_logreg.predict(X_test)\n",
    "print(y_predict_lr)\n",
    "score_lr = accuracy_score(y_test, y_predict_lr)\n",
    "print('Accuracy of Logistic Regression:',score_lr)"
   ]
  },
  {
   "cell_type": "markdown",
   "metadata": {},
   "source": [
    "Now, Use Logistic Regression Classifier to predict the probability of Heart Disease based on the training/testing datasets that you built in part (c) (you have to use “my_logreg.predict_proba” method rather than “my_logreg.predict”). Then, Plot the Roc Curve for this classifier, and also Compute the AUC (Area Under Curve for ROC)."
   ]
  },
  {
   "cell_type": "code",
   "execution_count": 5,
   "metadata": {},
   "outputs": [
    {
     "name": "stdout",
     "output_type": "stream",
     "text": [
      "[[0.49847189 0.50152811]\n",
      " [0.55153223 0.44846777]\n",
      " [0.39514152 0.60485848]\n",
      " [0.39636475 0.60363525]\n",
      " [0.8463285  0.1536715 ]\n",
      " [0.77042084 0.22957916]\n",
      " [0.73485372 0.26514628]\n",
      " [0.86548609 0.13451391]\n",
      " [0.35529864 0.64470136]\n",
      " [0.6707959  0.3292041 ]\n",
      " [0.09558374 0.90441626]\n",
      " [0.91924811 0.08075189]\n",
      " [0.29096442 0.70903558]\n",
      " [0.43043601 0.56956399]\n",
      " [0.66808153 0.33191847]\n",
      " [0.85924791 0.14075209]\n",
      " [0.11598482 0.88401518]\n",
      " [0.68324451 0.31675549]\n",
      " [0.11239963 0.88760037]\n",
      " [0.33485811 0.66514189]\n",
      " [0.85412798 0.14587202]\n",
      " [0.86376748 0.13623252]\n",
      " [0.22496489 0.77503511]\n",
      " [0.92910529 0.07089471]\n",
      " [0.10918691 0.89081309]\n",
      " [0.57443365 0.42556635]\n",
      " [0.72926897 0.27073103]\n",
      " [0.43211917 0.56788083]\n",
      " [0.67752917 0.32247083]\n",
      " [0.77600088 0.22399912]\n",
      " [0.30112704 0.69887296]\n",
      " [0.10864797 0.89135203]\n",
      " [0.17558051 0.82441949]\n",
      " [0.89158205 0.10841795]\n",
      " [0.81006702 0.18993298]\n",
      " [0.01129614 0.98870386]\n",
      " [0.06726456 0.93273544]\n",
      " [0.73258706 0.26741294]\n",
      " [0.20480859 0.79519141]\n",
      " [0.51449134 0.48550866]\n",
      " [0.717008   0.282992  ]\n",
      " [0.30586875 0.69413125]\n",
      " [0.66332514 0.33667486]\n",
      " [0.82077467 0.17922533]\n",
      " [0.03389153 0.96610847]\n",
      " [0.33728943 0.66271057]\n",
      " [0.87471223 0.12528777]\n",
      " [0.85656489 0.14343511]\n",
      " [0.36827265 0.63172735]\n",
      " [0.59762218 0.40237782]\n",
      " [0.62964398 0.37035602]\n",
      " [0.19469254 0.80530746]\n",
      " [0.96086695 0.03913305]\n",
      " [0.23063202 0.76936798]\n",
      " [0.88832735 0.11167265]\n",
      " [0.80533346 0.19466654]\n",
      " [0.88755409 0.11244591]\n",
      " [0.6431908  0.3568092 ]\n",
      " [0.83719082 0.16280918]\n",
      " [0.77051304 0.22948696]\n",
      " [0.27750557 0.72249443]\n",
      " [0.82840511 0.17159489]\n",
      " [0.76703016 0.23296984]\n",
      " [0.66246843 0.33753157]\n",
      " [0.75594836 0.24405164]\n",
      " [0.87543785 0.12456215]\n",
      " [0.69515727 0.30484273]\n",
      " [0.92701804 0.07298196]\n",
      " [0.90591669 0.09408331]\n",
      " [0.77008821 0.22991179]\n",
      " [0.91698898 0.08301102]]\n",
      "[0.50152811 0.44846777 0.60485848 0.60363525 0.1536715  0.22957916\n",
      " 0.26514628 0.13451391 0.64470136 0.3292041  0.90441626 0.08075189\n",
      " 0.70903558 0.56956399 0.33191847 0.14075209 0.88401518 0.31675549\n",
      " 0.88760037 0.66514189 0.14587202 0.13623252 0.77503511 0.07089471\n",
      " 0.89081309 0.42556635 0.27073103 0.56788083 0.32247083 0.22399912\n",
      " 0.69887296 0.89135203 0.82441949 0.10841795 0.18993298 0.98870386\n",
      " 0.93273544 0.26741294 0.79519141 0.48550866 0.282992   0.69413125\n",
      " 0.33667486 0.17922533 0.96610847 0.66271057 0.12528777 0.14343511\n",
      " 0.63172735 0.40237782 0.37035602 0.80530746 0.03913305 0.76936798\n",
      " 0.11167265 0.19466654 0.11244591 0.3568092  0.16280918 0.22948696\n",
      " 0.72249443 0.17159489 0.23296984 0.33753157 0.24405164 0.12456215\n",
      " 0.30484273 0.07298196 0.09408331 0.22991179 0.08301102]\n"
     ]
    }
   ],
   "source": [
    "\n",
    "# Estimating the probability (likelihood) of Each Label: \n",
    "y_predict_prob_lr = my_logreg.predict_proba(X_test)\n",
    "\n",
    "# This line prints the \"estimated likelihood of both label\" for the testing set:\n",
    "print(y_predict_prob_lr)\n",
    "\n",
    "# This line prints the \"estimated likelihood of label=1\" for the testing set:\n",
    "print(y_predict_prob_lr[:,1])\n",
    "\n"
   ]
  },
  {
   "cell_type": "code",
   "execution_count": 6,
   "metadata": {},
   "outputs": [
    {
     "name": "stdout",
     "output_type": "stream",
     "text": [
      "[0.         0.         0.02439024 0.02439024 0.04878049 0.04878049\n",
      " 0.09756098 0.09756098 0.12195122 0.12195122 0.14634146 0.14634146\n",
      " 0.2195122  0.2195122  0.29268293 0.29268293 0.3902439  0.3902439\n",
      " 0.41463415 0.41463415 0.46341463 0.46341463 0.56097561 0.56097561\n",
      " 0.68292683 0.68292683 0.70731707 0.70731707 0.73170732 0.73170732\n",
      " 1.        ]\n",
      "[0.         0.03333333 0.03333333 0.33333333 0.33333333 0.36666667\n",
      " 0.36666667 0.4        0.4        0.53333333 0.53333333 0.6\n",
      " 0.6        0.63333333 0.63333333 0.7        0.7        0.73333333\n",
      " 0.73333333 0.76666667 0.76666667 0.83333333 0.83333333 0.86666667\n",
      " 0.86666667 0.93333333 0.93333333 0.96666667 0.96666667 1.\n",
      " 1.        ]\n"
     ]
    }
   ],
   "source": [
    "from sklearn import metrics\n",
    "\n",
    "fpr, tpr, thresholds = metrics.roc_curve(y_test, y_predict_prob_lr[:,1], pos_label='Yes')\n",
    "\n",
    "print(fpr)\n",
    "print(tpr)\n",
    "\n"
   ]
  },
  {
   "cell_type": "code",
   "execution_count": 7,
   "metadata": {},
   "outputs": [
    {
     "name": "stdout",
     "output_type": "stream",
     "text": [
      "0.7650406504065042\n"
     ]
    }
   ],
   "source": [
    "AUC = metrics.auc(fpr, tpr)\n",
    "print(AUC)"
   ]
  },
  {
   "cell_type": "code",
   "execution_count": 8,
   "metadata": {},
   "outputs": [
    {
     "data": {
      "image/png": "[encoded data removed]",
      "text/plain": [
       "<Figure size 432x288 with 1 Axes>"
      ]
     },
     "metadata": {
      "needs_background": "light"
     },
     "output_type": "display_data"
    }
   ],
   "source": [
    "# Importing the \"pyplot\" package of \"matplotlib\" library of python to generate graphs and plot curves:\n",
    "import matplotlib.pyplot as plt\n",
    "\n",
    "# The following line will tell Jupyter Notebook to keep the figures inside the explorer page \n",
    "# rather than opening a new figure window:\n",
    "%matplotlib inline\n",
    "\n",
    "plt.figure()\n",
    "\n",
    "# Roc Curve:\n",
    "plt.plot(fpr, tpr, color='red', lw=2, \n",
    "         label='ROC Curve (area = %0.2f)' % AUC)\n",
    "\n",
    "# Random Guess line:\n",
    "plt.plot([0, 1], [0, 1], color='green', lw=1, linestyle='--')\n",
    "\n",
    "# Defining The Range of X-Axis and Y-Axis:\n",
    "plt.xlim([-0.005, 1.005])\n",
    "plt.ylim([0.0, 1.01])\n",
    "\n",
    "# Labels, Title, Legend:\n",
    "plt.xlabel('False Positive Rate')\n",
    "plt.ylabel('True Positive Rate')\n",
    "plt.title('Receiver operating characteristic')\n",
    "plt.legend(loc=\"lower right\")\n",
    "\n",
    "plt.show()"
   ]
  },
  {
   "cell_type": "code",
   "execution_count": null,
   "metadata": {},
   "outputs": [],
   "source": []
  }
 ],
 "metadata": {
  "kernelspec": {
   "display_name": "Python 3",
   "language": "python",
   "name": "python3"
  },
  "language_info": {
   "codemirror_mode": {
    "name": "ipython",
    "version": 3
   },
   "file_extension": ".py",
   "mimetype": "text/x-python",
   "name": "python",
   "nbconvert_exporter": "python",
   "pygments_lexer": "ipython3",
   "version": "3.8.3"
  }
 },
 "nbformat": 4,
 "nbformat_minor": 4
}
