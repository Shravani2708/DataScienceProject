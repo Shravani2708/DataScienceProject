{
 "cells": [
  {
   "cell_type": "markdown",
   "metadata": {},
   "source": [
    "# Project :Sentimental Analysis of Amazon Fine food Review"
   ]
  },
  {
   "cell_type": "markdown",
   "metadata": {},
   "source": [
    "###  Goal: "
   ]
  },
  {
   "cell_type": "markdown",
   "metadata": {},
   "source": [
    "Given a review, determine whether the review is positive or negative review using sentimental Analysis techniques "
   ]
  },
  {
   "cell_type": "markdown",
   "metadata": {},
   "source": [
    "### Project Description:\n",
    "This dataset consists of reviews of fine foods from amazon. The data span a period of more than 10 years, including all ~600,000 reviews. Reviews include product and user information, ratings, and a plain text review. It also includes reviews from all other Amazon categories.It is expensive to check each and every review manually and label its sentiment. So The better way is to rely on machine learning for that. In this case study, we will focus on the fine food review data set on amazon which is available on Kaggle.\n",
    "\n",
    " \n",
    "#### Data Contents:\n",
    "\n",
    "* 568,454 reviews\n",
    "* 256,059 users\n",
    "* 74,258 products\n",
    "* 260 users with > 50 reviews"
   ]
  },
  {
   "cell_type": "markdown",
   "metadata": {},
   "source": [
    "### Details about data\n",
    "1. Product Id: Unique identifier for the product\n",
    "2. User Id: unique identifier for the user\n",
    "3. Profile Name: Profile name of the user\n",
    "4. Helpfulness Numerator: Number of users who found the review helpful\n",
    "5. Helpfulness Denominator: Number of users who indicated whether they found the review helpful or not\n",
    "6. Score: Rating between 1 and 5\n",
    "7. Time: Timestamp\n",
    "8. Summary: Summary of the review\n",
    "9. Text: Review"
   ]
  },
  {
   "cell_type": "markdown",
   "metadata": {},
   "source": [
    "### Importing the Libraries"
   ]
  },
  {
   "cell_type": "code",
   "execution_count": 1,
   "metadata": {},
   "outputs": [],
   "source": [
    "%matplotlib inline\n",
    "import warnings\n",
    "warnings.filterwarnings(\"ignore\")\n",
    "import pandas as pd\n",
    "import numpy as np\n",
    "\n",
    "import nltk\n",
    "import string\n",
    "import matplotlib.pyplot as plt\n",
    "import seaborn as sns\n",
    "from sklearn.feature_extraction.text import TfidfTransformer, TfidfVectorizer, CountVectorizer\n",
    "from sklearn import metrics\n",
    "from nltk.stem.porter import PorterStemmer\n",
    "import re\n",
    "\n",
    "import string\n",
    "from nltk.corpus import stopwords\n",
    "from nltk.stem import PorterStemmer\n",
    "from nltk.stem.wordnet import WordNetLemmatizer\n",
    "from gensim.models import Word2Vec\n",
    "from gensim.models import KeyedVectors\n",
    "import pickle\n",
    "from tqdm import tqdm\n",
    "import os\n",
    "from sklearn.ensemble import RandomForestClassifier, GradientBoostingClassifier\n",
    "from sklearn.model_selection import GridSearchCV, RandomizedSearchCV, train_test_split\n",
    "from sklearn.metrics import confusion_matrix, precision_score, recall_score, f1_score, accuracy_score, roc_curve, auc\n",
    "from sklearn.calibration import CalibratedClassifierCV\n",
    "from xgboost import XGBClassifier\n",
    "from keras.models import Sequential\n",
    "from keras.layers import Dense\n",
    "from keras.layers.embeddings import Embedding\n",
    "from keras.preprocessing import sequence\n",
    "from keras.preprocessing.text import Tokenizer\n",
    "from keras.preprocessing.sequence import pad_sequences\n",
    "from keras.layers import LSTM\n",
    "\n",
    "np.random.seed(7)\n",
    "from keras.layers import Dropout\n",
    "from sklearn.preprocessing import LabelEncoder\n",
    "import warnings\n",
    "warnings.filterwarnings('ignore')\n"
   ]
  },
  {
   "cell_type": "markdown",
   "metadata": {},
   "source": [
    "### Load the dataset "
   ]
  },
  {
   "cell_type": "code",
   "execution_count": 2,
   "metadata": {},
   "outputs": [
    {
     "data": {
      "text/html": [
       "<div>\n",
       "<style scoped>\n",
       "    .dataframe tbody tr th:only-of-type {\n",
       "        vertical-align: middle;\n",
       "    }\n",
       "\n",
       "    .dataframe tbody tr th {\n",
       "        vertical-align: top;\n",
       "    }\n",
       "\n",
       "    .dataframe thead th {\n",
       "        text-align: right;\n",
       "    }\n",
       "</style>\n",
       "<table border=\"1\" class=\"dataframe\">\n",
       "  <thead>\n",
       "    <tr style=\"text-align: right;\">\n",
       "      <th></th>\n",
       "      <th>Id</th>\n",
       "      <th>ProductId</th>\n",
       "      <th>UserId</th>\n",
       "      <th>ProfileName</th>\n",
       "      <th>HelpfulnessNumerator</th>\n",
       "      <th>HelpfulnessDenominator</th>\n",
       "      <th>Score</th>\n",
       "      <th>Time</th>\n",
       "      <th>Summary</th>\n",
       "      <th>Text</th>\n",
       "    </tr>\n",
       "  </thead>\n",
       "  <tbody>\n",
       "    <tr>\n",
       "      <th>0</th>\n",
       "      <td>1</td>\n",
       "      <td>B001E4KFG0</td>\n",
       "      <td>A3SGXH7AUHU8GW</td>\n",
       "      <td>delmartian</td>\n",
       "      <td>1</td>\n",
       "      <td>1</td>\n",
       "      <td>5</td>\n",
       "      <td>1303862400</td>\n",
       "      <td>Good Quality Dog Food</td>\n",
       "      <td>I have bought several of the Vitality canned d...</td>\n",
       "    </tr>\n",
       "    <tr>\n",
       "      <th>1</th>\n",
       "      <td>2</td>\n",
       "      <td>B00813GRG4</td>\n",
       "      <td>A1D87F6ZCVE5NK</td>\n",
       "      <td>dll pa</td>\n",
       "      <td>0</td>\n",
       "      <td>0</td>\n",
       "      <td>1</td>\n",
       "      <td>1346976000</td>\n",
       "      <td>Not as Advertised</td>\n",
       "      <td>Product arrived labeled as Jumbo Salted Peanut...</td>\n",
       "    </tr>\n",
       "    <tr>\n",
       "      <th>2</th>\n",
       "      <td>3</td>\n",
       "      <td>B000LQOCH0</td>\n",
       "      <td>ABXLMWJIXXAIN</td>\n",
       "      <td>Natalia Corres \"Natalia Corres\"</td>\n",
       "      <td>1</td>\n",
       "      <td>1</td>\n",
       "      <td>4</td>\n",
       "      <td>1219017600</td>\n",
       "      <td>\"Delight\" says it all</td>\n",
       "      <td>This is a confection that has been around a fe...</td>\n",
       "    </tr>\n",
       "    <tr>\n",
       "      <th>3</th>\n",
       "      <td>4</td>\n",
       "      <td>B000UA0QIQ</td>\n",
       "      <td>A395BORC6FGVXV</td>\n",
       "      <td>Karl</td>\n",
       "      <td>3</td>\n",
       "      <td>3</td>\n",
       "      <td>2</td>\n",
       "      <td>1307923200</td>\n",
       "      <td>Cough Medicine</td>\n",
       "      <td>If you are looking for the secret ingredient i...</td>\n",
       "    </tr>\n",
       "    <tr>\n",
       "      <th>4</th>\n",
       "      <td>5</td>\n",
       "      <td>B006K2ZZ7K</td>\n",
       "      <td>A1UQRSCLF8GW1T</td>\n",
       "      <td>Michael D. Bigham \"M. Wassir\"</td>\n",
       "      <td>0</td>\n",
       "      <td>0</td>\n",
       "      <td>5</td>\n",
       "      <td>1350777600</td>\n",
       "      <td>Great taffy</td>\n",
       "      <td>Great taffy at a great price.  There was a wid...</td>\n",
       "    </tr>\n",
       "    <tr>\n",
       "      <th>...</th>\n",
       "      <td>...</td>\n",
       "      <td>...</td>\n",
       "      <td>...</td>\n",
       "      <td>...</td>\n",
       "      <td>...</td>\n",
       "      <td>...</td>\n",
       "      <td>...</td>\n",
       "      <td>...</td>\n",
       "      <td>...</td>\n",
       "      <td>...</td>\n",
       "    </tr>\n",
       "    <tr>\n",
       "      <th>24995</th>\n",
       "      <td>24996</td>\n",
       "      <td>B0078Y6OX8</td>\n",
       "      <td>A2O8ULU9VP1Y3U</td>\n",
       "      <td>fawilson</td>\n",
       "      <td>1</td>\n",
       "      <td>1</td>\n",
       "      <td>5</td>\n",
       "      <td>1290556800</td>\n",
       "      <td>So Flavorful!!!!</td>\n",
       "      <td>I absolutely love the flavor of this coffee.  ...</td>\n",
       "    </tr>\n",
       "    <tr>\n",
       "      <th>24996</th>\n",
       "      <td>24997</td>\n",
       "      <td>B0078Y6OX8</td>\n",
       "      <td>A35A03F0CMFVP6</td>\n",
       "      <td>theresa Clune</td>\n",
       "      <td>1</td>\n",
       "      <td>1</td>\n",
       "      <td>2</td>\n",
       "      <td>1290211200</td>\n",
       "      <td>not worth the money vey weak</td>\n",
       "      <td>This was a very disappointing coffee.  It is v...</td>\n",
       "    </tr>\n",
       "    <tr>\n",
       "      <th>24997</th>\n",
       "      <td>24998</td>\n",
       "      <td>B0078Y6OX8</td>\n",
       "      <td>A38ETR815F3B2Y</td>\n",
       "      <td>newcoffeefan</td>\n",
       "      <td>1</td>\n",
       "      <td>1</td>\n",
       "      <td>5</td>\n",
       "      <td>1289520000</td>\n",
       "      <td>One taste and you are converted!</td>\n",
       "      <td>This is the best coffee flavor I have tried in...</td>\n",
       "    </tr>\n",
       "    <tr>\n",
       "      <th>24998</th>\n",
       "      <td>24999</td>\n",
       "      <td>B0078Y6OX8</td>\n",
       "      <td>AGKVGP6PQ5ZO</td>\n",
       "      <td>Connie Rogers</td>\n",
       "      <td>1</td>\n",
       "      <td>1</td>\n",
       "      <td>5</td>\n",
       "      <td>1289433600</td>\n",
       "      <td>Excellent</td>\n",
       "      <td>If your looking for a good flavored coffee, th...</td>\n",
       "    </tr>\n",
       "    <tr>\n",
       "      <th>24999</th>\n",
       "      <td>25000</td>\n",
       "      <td>B0078Y6OX8</td>\n",
       "      <td>A3RYUZOMEWUZOL</td>\n",
       "      <td>Carol Larkins \"Grammy great\"</td>\n",
       "      <td>1</td>\n",
       "      <td>1</td>\n",
       "      <td>5</td>\n",
       "      <td>1284681600</td>\n",
       "      <td>coffee</td>\n",
       "      <td>I reall love the chocolate raseberry kcups I w...</td>\n",
       "    </tr>\n",
       "  </tbody>\n",
       "</table>\n",
       "<p>25000 rows × 10 columns</p>\n",
       "</div>"
      ],
      "text/plain": [
       "          Id   ProductId          UserId                      ProfileName  \\\n",
       "0          1  B001E4KFG0  A3SGXH7AUHU8GW                       delmartian   \n",
       "1          2  B00813GRG4  A1D87F6ZCVE5NK                           dll pa   \n",
       "2          3  B000LQOCH0   ABXLMWJIXXAIN  Natalia Corres \"Natalia Corres\"   \n",
       "3          4  B000UA0QIQ  A395BORC6FGVXV                             Karl   \n",
       "4          5  B006K2ZZ7K  A1UQRSCLF8GW1T    Michael D. Bigham \"M. Wassir\"   \n",
       "...      ...         ...             ...                              ...   \n",
       "24995  24996  B0078Y6OX8  A2O8ULU9VP1Y3U                         fawilson   \n",
       "24996  24997  B0078Y6OX8  A35A03F0CMFVP6                    theresa Clune   \n",
       "24997  24998  B0078Y6OX8  A38ETR815F3B2Y                     newcoffeefan   \n",
       "24998  24999  B0078Y6OX8    AGKVGP6PQ5ZO                    Connie Rogers   \n",
       "24999  25000  B0078Y6OX8  A3RYUZOMEWUZOL     Carol Larkins \"Grammy great\"   \n",
       "\n",
       "       HelpfulnessNumerator  HelpfulnessDenominator  Score        Time  \\\n",
       "0                         1                       1      5  1303862400   \n",
       "1                         0                       0      1  1346976000   \n",
       "2                         1                       1      4  1219017600   \n",
       "3                         3                       3      2  1307923200   \n",
       "4                         0                       0      5  1350777600   \n",
       "...                     ...                     ...    ...         ...   \n",
       "24995                     1                       1      5  1290556800   \n",
       "24996                     1                       1      2  1290211200   \n",
       "24997                     1                       1      5  1289520000   \n",
       "24998                     1                       1      5  1289433600   \n",
       "24999                     1                       1      5  1284681600   \n",
       "\n",
       "                                Summary  \\\n",
       "0                 Good Quality Dog Food   \n",
       "1                     Not as Advertised   \n",
       "2                 \"Delight\" says it all   \n",
       "3                        Cough Medicine   \n",
       "4                           Great taffy   \n",
       "...                                 ...   \n",
       "24995                  So Flavorful!!!!   \n",
       "24996      not worth the money vey weak   \n",
       "24997  One taste and you are converted!   \n",
       "24998                         Excellent   \n",
       "24999                            coffee   \n",
       "\n",
       "                                                    Text  \n",
       "0      I have bought several of the Vitality canned d...  \n",
       "1      Product arrived labeled as Jumbo Salted Peanut...  \n",
       "2      This is a confection that has been around a fe...  \n",
       "3      If you are looking for the secret ingredient i...  \n",
       "4      Great taffy at a great price.  There was a wid...  \n",
       "...                                                  ...  \n",
       "24995  I absolutely love the flavor of this coffee.  ...  \n",
       "24996  This was a very disappointing coffee.  It is v...  \n",
       "24997  This is the best coffee flavor I have tried in...  \n",
       "24998  If your looking for a good flavored coffee, th...  \n",
       "24999  I reall love the chocolate raseberry kcups I w...  \n",
       "\n",
       "[25000 rows x 10 columns]"
      ]
     },
     "execution_count": 2,
     "metadata": {},
     "output_type": "execute_result"
    }
   ],
   "source": [
    "Reviews_df = pd.read_csv('Reviews.csv',nrows=25000)\n",
    "Reviews_df"
   ]
  },
  {
   "cell_type": "markdown",
   "metadata": {},
   "source": [
    "## Exploratory Data Analysis"
   ]
  },
  {
   "cell_type": "markdown",
   "metadata": {},
   "source": [
    "### 1.Converting the score values to positive or negative"
   ]
  },
  {
   "cell_type": "markdown",
   "metadata": {},
   "source": [
    "Here ,We could used a column name Score.The rating above 4 is considered as positive review.The rating of 1 or 2 is \n",
    "considered as a negative review where as review of rating 3 is considered neutral\n",
    "and this type of reviews are ignored from our analysis. This is an approximate and proxy way of determining\n",
    "the polarity (positivity/negativity) of a review."
   ]
  },
  {
   "cell_type": "markdown",
   "metadata": {},
   "source": [
    "#### Distribution of Ratings"
   ]
  },
  {
   "cell_type": "code",
   "execution_count": 3,
   "metadata": {},
   "outputs": [
    {
     "data": {
      "image/png": "[encoded data removed]",
      "text/plain": [
       "<Figure size 720x360 with 1 Axes>"
      ]
     },
     "metadata": {
      "needs_background": "light"
     },
     "output_type": "display_data"
    }
   ],
   "source": [
    "plt.figure(figsize=(10,5))\n",
    "sns.countplot(Reviews_df['Score'])\n",
    "plt.title(\"Distribution of Ratings\", fontweight='bold', fontsize=15)\n",
    "plt.xlabel(\"Ratings of Reviews\")\n",
    "plt.ylabel(\"Total Number of reviews\")\n",
    "plt.show();"
   ]
  },
  {
   "cell_type": "markdown",
   "metadata": {},
   "source": [
    "On analysis,it shows that the dataset contains more positive reviews compared to negative reviews.\n",
    "Therefore,will assign all data points above rating 3 as positive and below as negative rating for the reviews"
   ]
  },
  {
   "cell_type": "code",
   "execution_count": 4,
   "metadata": {},
   "outputs": [],
   "source": [
    "#Give reviews with Score > 3 a 'Positive' tag, and reviews with a score < 3 a 'Negative' tag.\n",
    "Reviews_df['Sentiment_Value'] = Reviews_df['Score'].apply(lambda x : 'Positive' if x > 3 else 'Negative')\n",
    "\n",
    "\n",
    "#Creating the new column which stores \"Positive\" as 1 and \"Negative \" as 0\n",
    "Reviews_df['Target'] = Reviews_df['Sentiment_Value'].apply(lambda x : 1 if x == 'Positive' else 0)\n"
   ]
  },
  {
   "cell_type": "markdown",
   "metadata": {},
   "source": [
    "### Distribution of Postive and Negative reviews in a bar graph"
   ]
  },
  {
   "cell_type": "code",
   "execution_count": 5,
   "metadata": {},
   "outputs": [
    {
     "data": {
      "text/plain": [
       "<matplotlib.axes._subplots.AxesSubplot at 0x23d516d69d0>"
      ]
     },
     "execution_count": 5,
     "metadata": {},
     "output_type": "execute_result"
    },
    {
     "data": {
      "image/png": "[encoded data removed]",
      "text/plain": [
       "<Figure size 360x360 with 1 Axes>"
      ]
     },
     "metadata": {
      "needs_background": "light"
     },
     "output_type": "display_data"
    }
   ],
   "source": [
    "#Distribution of Postive and Negative reviews in a bar graph\n",
    "Reviews_df[\"Target\"].value_counts().plot(kind='bar',color=['orange','blue'],title='Positive and Negative reviews distribution.',figsize=(5,5))"
   ]
  },
  {
   "cell_type": "markdown",
   "metadata": {},
   "source": [
    " From the graph,it depicts that its an imbalanced dataset for classification."
   ]
  },
  {
   "cell_type": "markdown",
   "metadata": {},
   "source": [
    "### 3. Handle Missing values"
   ]
  },
  {
   "cell_type": "code",
   "execution_count": 6,
   "metadata": {},
   "outputs": [
    {
     "name": "stdout",
     "output_type": "stream",
     "text": [
      "<class 'pandas.core.frame.DataFrame'>\n",
      "RangeIndex: 25000 entries, 0 to 24999\n",
      "Data columns (total 12 columns):\n",
      " #   Column                  Non-Null Count  Dtype \n",
      "---  ------                  --------------  ----- \n",
      " 0   Id                      25000 non-null  int64 \n",
      " 1   ProductId               25000 non-null  object\n",
      " 2   UserId                  25000 non-null  object\n",
      " 3   ProfileName             25000 non-null  object\n",
      " 4   HelpfulnessNumerator    25000 non-null  int64 \n",
      " 5   HelpfulnessDenominator  25000 non-null  int64 \n",
      " 6   Score                   25000 non-null  int64 \n",
      " 7   Time                    25000 non-null  int64 \n",
      " 8   Summary                 25000 non-null  object\n",
      " 9   Text                    25000 non-null  object\n",
      " 10  Sentiment_Value         25000 non-null  object\n",
      " 11  Target                  25000 non-null  int64 \n",
      "dtypes: int64(6), object(6)\n",
      "memory usage: 2.3+ MB\n"
     ]
    }
   ],
   "source": [
    "Reviews_df.info()"
   ]
  },
  {
   "cell_type": "markdown",
   "metadata": {},
   "source": [
    "From the above result,it shows that the dataset don't have any null values as its the first step of data cleaning to predict the results more efficiently.Next we need to remove the duplicates if the dataset contains to avoid reduduncy of the data"
   ]
  },
  {
   "cell_type": "markdown",
   "metadata": {},
   "source": [
    " ### 4. Data Cleaning: Deduplication"
   ]
  },
  {
   "cell_type": "markdown",
   "metadata": {},
   "source": [
    "* 1.The dataset contains many duplicate entries of reviews.So to overcome the unbaised results we are deduplicating the rows \n",
    "  based  on UserId','ProfileName','Time' and sorting the dataset based on productId before deduplication to reduce the    redundancy\n",
    "* 2.The dataset contains the entries such that values in HelpfulnessNumerator is higher than the values in HelpfulnessDenominator as its practically not possible\n",
    "* 3.Helpfulness Numerator: Number of users who found the review helpful\n",
    "    Helpfulness Denominator: Number of users who indicated whether they found the review helpful or not\n",
    "* 4.On analysis, we found that for different products the same review is given by the same user at the same time. Practically it doesn’t make sense. So we will keep only the first one and remove other duplicates."
   ]
  },
  {
   "cell_type": "code",
   "execution_count": 7,
   "metadata": {},
   "outputs": [],
   "source": [
    "#Sorting data according to ProductId in ascending order\n",
    "df_sa=Reviews_df.sort_values('ProductId', axis=0, ascending=True, inplace=False, kind='quicksort', na_position='last')\n",
    "#Dropping the duplicates \n",
    "df_sa=df_sa.drop_duplicates(subset=['UserId','ProfileName','Text','Time'],keep='first')\n",
    "df_sa.tail(3)\n",
    "#Removing the entries where HelpfulnessNumerator > HelpfulnessDenominator.\n",
    "df_sa=df_sa[df_sa.HelpfulnessNumerator <= df_sa.HelpfulnessDenominator]"
   ]
  },
  {
   "cell_type": "markdown",
   "metadata": {},
   "source": [
    "### Analysis of Dataset after datacleaning"
   ]
  },
  {
   "cell_type": "code",
   "execution_count": 8,
   "metadata": {},
   "outputs": [
    {
     "name": "stdout",
     "output_type": "stream",
     "text": [
      "\n",
      "percentage of remaining data\n",
      "Percentage of redundant data removed : 3.304000000000002\n",
      "Percentage of original data retained : 96.696\n",
      "------------------------------------------------------------------------------------------\n",
      "\n",
      "New data set size- (24174, 12)\n",
      "\n",
      "\n",
      "The shape of the dataset after deduplication : (24174, 12)\n",
      "The number of positive and negative reviews after the deduplication.\n",
      "Positive    18559\n",
      "Negative     5615\n",
      "Name: Sentiment_Value, dtype: int64\n"
     ]
    }
   ],
   "source": [
    "#Calculating the remaining data after datacleaning\n",
    "print(\"\\npercentage of remaining data\")\n",
    "retained_per = (df_sa['Sentiment_Value'].size*1.0)/(Reviews_df['Sentiment_Value'].size*1.0)*100\n",
    "removed_per = 100 - retained_per\n",
    "print(\"Percentage of redundant data removed : {}\".format(removed_per))\n",
    "print(\"Percentage of original data retained : {}\".format(retained_per))\n",
    "\n",
    "print('------------------------------------------------------------------------------------------\\n')\n",
    "# Size of Data Set after removing duplicate values\n",
    "print('New data set size-',df_sa.shape)\n",
    "print(\"\\n\\nThe shape of the dataset after deduplication : {}\".format(df_sa.shape))\n",
    "print(\"The number of positive and negative reviews after the deduplication.\")\n",
    "print(df_sa[\"Sentiment_Value\"].value_counts())"
   ]
  },
  {
   "cell_type": "markdown",
   "metadata": {},
   "source": [
    "From the above results,the positive reviews are larger in number when compared to negative reviews,\n",
    "So to maintain the balance,we are dropping the 170k positive reviews for easy computation and processing of data.After our preprocessing, data got reduced from 568454 to 352783.ie, about approx 65% of the data is remaining. Now let's drop some more data so the model performs better with balanced dataset rather than imbalance dataset. "
   ]
  },
  {
   "cell_type": "code",
   "execution_count": 9,
   "metadata": {},
   "outputs": [
    {
     "name": "stdout",
     "output_type": "stream",
     "text": [
      "\n",
      "The shape of the data matrix of balanced data\n",
      "The number of positive and negative reviews after the removal of duplicate data.\n",
      "Series([], Name: Sentiment_Value, dtype: int64)\n"
     ]
    }
   ],
   "source": [
    "#Data set sorting based on sentiment polarity and deleting positive values to balance Dataset\n",
    "df_sort=df_sa.sort_values(by='Sentiment_Value')\n",
    "df_dropped_last_n = df_sort.iloc[:-170000]\n",
    "#df_dropped_last_n\n",
    "\n",
    "#Display information about the dataset after the removal of postive data.\n",
    "print(\"\\nThe shape of the data matrix of balanced data\".format(df_dropped_last_n.shape))\n",
    "print(\"The number of positive and negative reviews after the removal of duplicate data.\")\n",
    "print(df_dropped_last_n[\"Sentiment_Value\"].value_counts())"
   ]
  },
  {
   "cell_type": "markdown",
   "metadata": {},
   "source": [
    "Now,we can see that dataset is comparatively balance and also overcomes the baised results..After our preprocessing, data got reduced from 568454 to 182783. Now let's drop some more data so the model performs better with balanced dataset rather than imbalance dataset"
   ]
  },
  {
   "cell_type": "code",
   "execution_count": 10,
   "metadata": {
    "scrolled": true
   },
   "outputs": [
    {
     "data": {
      "text/plain": [
       "Text(0, 0.5, 'Reveiw classification')"
      ]
     },
     "execution_count": 10,
     "metadata": {},
     "output_type": "execute_result"
    },
    {
     "data": {
      "image/png": "[encoded data removed]",
      "text/plain": [
       "<Figure size 432x288 with 1 Axes>"
      ]
     },
     "metadata": {
      "needs_background": "light"
     },
     "output_type": "display_data"
    }
   ],
   "source": [
    "pos_1=Reviews_df[\"Sentiment_Value\"].value_counts().get(key ='Positive')\n",
    "pos_2=df_sa[\"Sentiment_Value\"].value_counts().get(key ='Positive')\n",
    "pos_3=df_dropped_last_n[\"Sentiment_Value\"].value_counts().get(key ='Positive')\n",
    "neg_1=Reviews_df[\"Sentiment_Value\"].value_counts().get(key ='Negative')\n",
    "neg_2=df_sa[\"Sentiment_Value\"].value_counts().get(key ='Negative')\n",
    "neg_3=df_dropped_last_n[\"Sentiment_Value\"].value_counts().get(key ='Negative')\n",
    "\n",
    "plotdata = pd.DataFrame({\n",
    "    \"positive\":[pos_1, pos_2,pos_3],\n",
    "    \"negative\":[neg_1, neg_2,neg_3],\n",
    " }, \n",
    "    index=[\"Original\", \"De-Duplication\" ,\"Balanced\"]\n",
    ")\n",
    "plotdata.head()\n",
    "\n",
    "plotdata.plot(kind='bar', stacked=True)\n",
    "\n",
    "plt.title(\" Total Distribution of reviews\")\n",
    "plt.xlabel(\"Datset\")\n",
    "plt.ylabel(\"Reveiw classification\")"
   ]
  },
  {
   "cell_type": "markdown",
   "metadata": {},
   "source": [
    "From the above graph,we are analysis the three stages of data distribution of positive and negative reviews \n",
    "after deduplication and dropping the rows."
   ]
  },
  {
   "cell_type": "markdown",
   "metadata": {},
   "source": [
    "## Data Preprocessing"
   ]
  },
  {
   "cell_type": "markdown",
   "metadata": {},
   "source": [
    "Need to preprocess the reviews text for analysis and to make prediction .\n",
    "* 1.It invovles removal of html tag,numbers associated with words,repeated characters,url,special characters etc which are \n",
    "    defined under data_preprocess()\n",
    "* 2.Need to remove stop words\n",
    "* 3.Need to implement stemming to remove suffixes using Snowball Stemmimg technique as its is more aggressive \n",
    "* 4.Storing all the positive and negative reviews in the different lists\n",
    "\n"
   ]
  },
  {
   "cell_type": "code",
   "execution_count": 11,
   "metadata": {},
   "outputs": [],
   "source": [
    "def data_preprocess(sentence):\n",
    "    #Remove words with numbers \n",
    "    sentence = re.sub(\"\\S*\\d\\S*\", \" \", sentence).strip()\n",
    "    #Remove clean html tags from a sentence\n",
    "    pattern = re.compile('<.*?>')\n",
    "    sentence = re.sub(pattern,' ',sentence)\n",
    "    #Remove words having three consecutive repeating characters.\n",
    "    sentence  = re.sub(\"\\\\s*\\\\b(?=\\\\w*(\\\\w)\\\\1{2,})\\\\w*\\\\b\",' ',sentence)\n",
    "    #Remove URL from sentences.\n",
    "    text = re.sub(r\"http\\S+\", \" \", sentence)\n",
    "    sentence = re.sub(r\"www.\\S+\", \" \", text)\n",
    "    #Keep only words containing letters A-Z and a-z and remove all punctuations, special characters etc\n",
    "    sentence  = re.sub('[^a-zA-Z]',' ',sentence)\n",
    "    return (sentence)"
   ]
  },
  {
   "cell_type": "markdown",
   "metadata": {},
   "source": [
    "### Stemming and Removal of stopwords"
   ]
  },
  {
   "cell_type": "code",
   "execution_count": 12,
   "metadata": {},
   "outputs": [
    {
     "name": "stdout",
     "output_type": "stream",
     "text": [
      "defined_stopwords:\n",
      " {'some', 'can', \"couldn't\", 'has', 'own', 'at', 'haven', 'they', 'there', 'once', 'into', 'hasn', \"you're\", 'of', 'was', 'other', 'them', \"wouldn't\", 'ma', 'if', \"wasn't\", 'should', \"you've\", 'to', 'hers', 'until', 'am', 'did', 'y', \"needn't\", \"weren't\", \"hadn't\", 'll', 'during', 'too', 'about', 's', 'you', 'any', 'him', 'then', 'such', 'just', 'were', \"aren't\", 'doing', 'after', 'off', \"didn't\", 'i', 'does', 'their', 'ourselves', \"should've\", 'needn', 'few', 'shan', 'whom', 'herself', 'theirs', 'be', \"mustn't\", 'who', 'where', 'which', 'in', 'is', 'my', 'above', 't', 'it', 'themselves', 'had', 'by', 'between', 'or', 're', \"shouldn't\", 'each', 'here', 'when', 'most', 'than', 'shouldn', 'on', 'now', 'yours', 'd', 'mightn', 'and', 'all', 'weren', \"doesn't\", 'but', 'doesn', 'with', 'its', 'don', 'isn', 'while', 'an', 'up', 'will', 'both', 'these', 'm', 'o', \"she's\", 'having', 'this', 'against', 'himself', 'have', 'from', 'again', \"mightn't\", 'she', \"isn't\", 'further', 'mustn', 'below', \"that'll\", 'been', 'because', 'do', 'me', 'only', \"hasn't\", 'we', 'won', 'ain', 'very', 'as', 'wouldn', 'your', 'didn', 'down', \"don't\", 'how', 'a', 'what', 'through', 'why', 'hadn', 'our', 'yourselves', 'being', 'yourself', 'aren', 'couldn', 'so', 'are', 'that', \"won't\", 'for', \"you'd\", \"it's\", 'same', 'more', \"shan't\", \"you'll\", 'before', \"haven't\", 'myself', 'under', 'wasn', 'he', 'his', 'ours', 'those', 've', 'out', 'the', 'itself', 'over', 'her'}\n"
     ]
    }
   ],
   "source": [
    "#Stemming and stopwords removal\n",
    "from nltk.stem.snowball import SnowballStemmer\n",
    "sno = SnowballStemmer(language='english')\n",
    "\n",
    "#Removing the word 'not' from stopwords\n",
    "default_stopwords = set(stopwords.words('english'))\n",
    "#print(\"default_stopwords:\",default_stopwords)\n",
    "remove_not = set(['no', 'nor', 'not'])\n",
    "#print(\"--------------------------------------------------------------------------------------------------------------------\")\n",
    "defined_stopwords = default_stopwords - remove_not\n",
    "print(\"defined_stopwords:\\n\",defined_stopwords)"
   ]
  },
  {
   "cell_type": "markdown",
   "metadata": {},
   "source": [
    "\n",
    "###Convert all the words to lower case and replace the contraction words"
   ]
  },
  {
   "cell_type": "markdown",
   "metadata": {},
   "source": []
  },
  {
   "cell_type": "code",
   "execution_count": 13,
   "metadata": {},
   "outputs": [],
   "source": [
    "import re\n",
    "\n",
    "# Convert all the words to lower case and replace the contraction words\n",
    "def replace_words(x):\n",
    "    x = str(x).lower()\n",
    "    x = x.replace(\",000,000\", \" m\").replace(\",000\", \" k\").replace(\"′\", \"'\").replace(\"’\", \"'\")\\\n",
    "                           .replace(\"won't\", \" will not\").replace(\"cannot\", \" can not\").replace(\"can't\", \" can not\")\\\n",
    "                           .replace(\"n't\", \" not\").replace(\"what's\", \" what is\").replace(\"it's\", \" it is\")\\\n",
    "                           .replace(\"finna\",\" fixing to\").replace(\"gonna\",\" going to\").replace(\"gimme\",\" give me\").replace(\"gotta\",\" got to\").replace(\"'d\",\" would\")\\\n",
    "                           .replace(\"daresn't\",\" dare not\").replace(\"dasn't\",\" dare not\").replace(\"e'er\",\" ever\").replace(\"everyone's\",\" everyone is\")\\\n",
    "                           .replace(\"'cause'\",\" because\")\\\n",
    "                           .replace(\"'ve\", \" have\").replace(\"'m\", \" am\").replace(\"'re\", \" are\")\\\n",
    "                           .replace(\"he's\", \" he is\").replace(\"she's\", \" she is\").replace(\"'s\", \" own\")\\\n",
    "                           .replace(\"%\", \" percent \").replace(\"₹\", \" rupee \").replace(\"$\", \" dollar \")\\\n",
    "                           .replace(\"€\", \" euro \").replace(\"'ll\", \" will\").replace(\"how's\",\" how has\").replace(\"y'all\",\" you all\")\\\n",
    "                           .replace(\"o'clock\",\" of the clock\").replace(\"ne'er\",\" never\").replace(\"let's\",\" let us\")\\\n",
    "                          \n",
    "    #Converting 123000000 to 123m\n",
    "    x = re.sub(r\"([0-9]+)000000\", r\"\\1m\", x)\n",
    "    #converting 123000 to 123k\n",
    "    x = re.sub(r\"([0-9]+)000\", r\"\\1k\", x)\n",
    "    return x"
   ]
  },
  {
   "cell_type": "markdown",
   "metadata": {},
   "source": [
    "### Distribution of Stemmed word length"
   ]
  },
  {
   "cell_type": "code",
   "execution_count": 14,
   "metadata": {},
   "outputs": [
    {
     "name": "stderr",
     "output_type": "stream",
     "text": [
      "0it [00:00, ?it/s]\n",
      "0it [00:00, ?it/s]\n"
     ]
    }
   ],
   "source": [
    "# Combining all the above data cleaning methodologies as discussed above.\n",
    "\n",
    "#Processing review Texts\n",
    "total_words = []\n",
    "#List all the processed reviews\n",
    "preprocessed_reviews = [] \n",
    "#list all the relevant words from Positive reviews\n",
    "all_positive_words=[] \n",
    "#list all the relevant words from Negative reviews\n",
    "all_negative_words=[] \n",
    " \n",
    "#Iterate through the list of reviews and check if a given review belongs to the positive or negative \n",
    "count=0  \n",
    "string=' '    \n",
    "stemed_word=' '\n",
    "\n",
    "for review in tqdm(df_dropped_last_n['Text'].values):\n",
    "    filtered_sentence=[]\n",
    "    review = data_preprocess(review)\n",
    "  \n",
    " \n",
    "    \n",
    "    for cleaned_words in review.split():   \n",
    "        if((cleaned_words not in defined_stopwords) and (2<len(cleaned_words)<16)):\n",
    "            stemed_word=(sno.stem(cleaned_words.lower()))\n",
    "            total_words.append(stemed_word)\n",
    "           \n",
    "            filtered_sentence.append(stemed_word)\n",
    "             #List of all the relevant words from Positive reviews\n",
    "            if (df_dropped_last_n['Sentiment_Value'].values)[count] == 'Positive': \n",
    "                all_positive_words.append(stemed_word)\n",
    "            #List of all the relevant words from Negative reviews\n",
    "            if(df_dropped_last_n['Sentiment_Value'].values)[count] == 'Negative':\n",
    "                all_negative_words.append(stemed_word) \n",
    "        else:\n",
    "            continue\n",
    "    \n",
    "    review = \" \".join(filtered_sentence) #Final string of cleaned words \n",
    "    #print(\"After review:\",review)\n",
    "    preprocessed_reviews.append(review.strip()) #Data corpus contaning cleaned reviews from the whole dataset\n",
    "    #print(\"preprocessed_reviews:\",preprocessed_reviews)\n",
    "    count+=1\n",
    "\n",
    "total_words = list(set(total_words))\n",
    "#print(\"total_words:\",total_words)   \n",
    "#print(count(total_words))\n",
    "#list all the length of words\n",
    "dist = []\n",
    "for i in tqdm(total_words):\n",
    "    length = len(i)\n",
    "    dist.append(length)\n",
    "\n",
    "\n",
    "#print(\"------------------------------------------------------------------------------------------------------------------\")\n",
    "#print(\"length_word:\",dist)\n"
   ]
  },
  {
   "cell_type": "code",
   "execution_count": 15,
   "metadata": {},
   "outputs": [
    {
     "data": {
      "text/plain": [
       "Text(0, 0.5, 'Number of Words')"
      ]
     },
     "execution_count": 15,
     "metadata": {},
     "output_type": "execute_result"
    },
    {
     "data": {
      "image/png": "[encoded data removed]",
      "text/plain": [
       "<Figure size 720x360 with 1 Axes>"
      ]
     },
     "metadata": {
      "needs_background": "light"
     },
     "output_type": "display_data"
    }
   ],
   "source": [
    "# matplotlib histogram to see the distribution of the length of words\n",
    "plt.figure(figsize=(10,5))\n",
    "plt.hist(dist, color = 'orange', bins =90)\n",
    "plt.title('Distribution of the length of Words across all reviews.')\n",
    "plt.xlabel('Word Lengths')\n",
    "plt.ylabel('Number of Words')"
   ]
  },
  {
   "cell_type": "markdown",
   "metadata": {},
   "source": [
    "To bulid good model,we are replacing the contraction words with meaning full word and \n",
    "converting all the characters to lowercase .From the graph,We can see that Words which has length range between 2 to 15 are more and words which has length greater than 15 are few so will consider the words whose length is greater than 2 and less than 16."
   ]
  },
  {
   "cell_type": "markdown",
   "metadata": {},
   "source": [
    "### Visualization of Positive words and negative words from the reviews after data processing using word cloud"
   ]
  },
  {
   "cell_type": "markdown",
   "metadata": {},
   "source": [
    "Word cloud is a technique for visualising frequent words in a text where the size of the words represents their frequency.\n",
    "A word cloud (also called tag cloud or weighted list) is a visual representation of text data. Words are usually single words, and the importance of each is shown with font size or color. Python fortunately has a wordcloud library allowing to build them.\n"
   ]
  },
  {
   "cell_type": "markdown",
   "metadata": {},
   "source": [
    "#### Positive review WordCloud"
   ]
  },
  {
   "cell_type": "code",
   "execution_count": 16,
   "metadata": {},
   "outputs": [
    {
     "ename": "ValueError",
     "evalue": "We need at least 1 word to plot a word cloud, got 0.",
     "output_type": "error",
     "traceback": [
      "\u001b[1;31m---------------------------------------------------------------------------\u001b[0m",
      "\u001b[1;31mValueError\u001b[0m                                Traceback (most recent call last)",
      "\u001b[1;32m<ipython-input-16-576690f31f7e>\u001b[0m in \u001b[0;36m<module>\u001b[1;34m\u001b[0m\n\u001b[0;32m      2\u001b[0m \u001b[1;31m#plotting all the posituve words\u001b[0m\u001b[1;33m\u001b[0m\u001b[1;33m\u001b[0m\u001b[1;33m\u001b[0m\u001b[0m\n\u001b[0;32m      3\u001b[0m \u001b[0mpositive_string\u001b[0m\u001b[1;33m=\u001b[0m\u001b[1;33m(\u001b[0m\u001b[1;34m\" \"\u001b[0m\u001b[1;33m)\u001b[0m\u001b[1;33m.\u001b[0m\u001b[0mjoin\u001b[0m\u001b[1;33m(\u001b[0m\u001b[0mall_positive_words\u001b[0m\u001b[1;33m)\u001b[0m\u001b[1;33m\u001b[0m\u001b[1;33m\u001b[0m\u001b[0m\n\u001b[1;32m----> 4\u001b[1;33m \u001b[0mwordcloud\u001b[0m \u001b[1;33m=\u001b[0m \u001b[0mWordCloud\u001b[0m\u001b[1;33m(\u001b[0m\u001b[0mwidth\u001b[0m \u001b[1;33m=\u001b[0m \u001b[1;36m1000\u001b[0m\u001b[1;33m,\u001b[0m \u001b[0mheight\u001b[0m \u001b[1;33m=\u001b[0m \u001b[1;36m500\u001b[0m\u001b[1;33m)\u001b[0m\u001b[1;33m.\u001b[0m\u001b[0mgenerate\u001b[0m\u001b[1;33m(\u001b[0m\u001b[0mpositive_string\u001b[0m\u001b[1;33m)\u001b[0m\u001b[1;33m\u001b[0m\u001b[1;33m\u001b[0m\u001b[0m\n\u001b[0m\u001b[0;32m      5\u001b[0m \u001b[0mplt\u001b[0m\u001b[1;33m.\u001b[0m\u001b[0mfigure\u001b[0m\u001b[1;33m(\u001b[0m\u001b[0mfigsize\u001b[0m\u001b[1;33m=\u001b[0m\u001b[1;33m(\u001b[0m\u001b[1;36m10\u001b[0m\u001b[1;33m,\u001b[0m\u001b[1;36m6\u001b[0m\u001b[1;33m)\u001b[0m\u001b[1;33m)\u001b[0m\u001b[1;33m\u001b[0m\u001b[1;33m\u001b[0m\u001b[0m\n\u001b[0;32m      6\u001b[0m \u001b[0mplt\u001b[0m\u001b[1;33m.\u001b[0m\u001b[0mimshow\u001b[0m\u001b[1;33m(\u001b[0m\u001b[0mwordcloud\u001b[0m\u001b[1;33m)\u001b[0m\u001b[1;33m\u001b[0m\u001b[1;33m\u001b[0m\u001b[0m\n",
      "\u001b[1;32mD:\\Anaconda 3_Application\\lib\\site-packages\\wordcloud\\wordcloud.py\u001b[0m in \u001b[0;36mgenerate\u001b[1;34m(self, text)\u001b[0m\n\u001b[0;32m    630\u001b[0m         \u001b[0mself\u001b[0m\u001b[1;33m\u001b[0m\u001b[1;33m\u001b[0m\u001b[0m\n\u001b[0;32m    631\u001b[0m         \"\"\"\n\u001b[1;32m--> 632\u001b[1;33m         \u001b[1;32mreturn\u001b[0m \u001b[0mself\u001b[0m\u001b[1;33m.\u001b[0m\u001b[0mgenerate_from_text\u001b[0m\u001b[1;33m(\u001b[0m\u001b[0mtext\u001b[0m\u001b[1;33m)\u001b[0m\u001b[1;33m\u001b[0m\u001b[1;33m\u001b[0m\u001b[0m\n\u001b[0m\u001b[0;32m    633\u001b[0m \u001b[1;33m\u001b[0m\u001b[0m\n\u001b[0;32m    634\u001b[0m     \u001b[1;32mdef\u001b[0m \u001b[0m_check_generated\u001b[0m\u001b[1;33m(\u001b[0m\u001b[0mself\u001b[0m\u001b[1;33m)\u001b[0m\u001b[1;33m:\u001b[0m\u001b[1;33m\u001b[0m\u001b[1;33m\u001b[0m\u001b[0m\n",
      "\u001b[1;32mD:\\Anaconda 3_Application\\lib\\site-packages\\wordcloud\\wordcloud.py\u001b[0m in \u001b[0;36mgenerate_from_text\u001b[1;34m(self, text)\u001b[0m\n\u001b[0;32m    612\u001b[0m         \"\"\"\n\u001b[0;32m    613\u001b[0m         \u001b[0mwords\u001b[0m \u001b[1;33m=\u001b[0m \u001b[0mself\u001b[0m\u001b[1;33m.\u001b[0m\u001b[0mprocess_text\u001b[0m\u001b[1;33m(\u001b[0m\u001b[0mtext\u001b[0m\u001b[1;33m)\u001b[0m\u001b[1;33m\u001b[0m\u001b[1;33m\u001b[0m\u001b[0m\n\u001b[1;32m--> 614\u001b[1;33m         \u001b[0mself\u001b[0m\u001b[1;33m.\u001b[0m\u001b[0mgenerate_from_frequencies\u001b[0m\u001b[1;33m(\u001b[0m\u001b[0mwords\u001b[0m\u001b[1;33m)\u001b[0m\u001b[1;33m\u001b[0m\u001b[1;33m\u001b[0m\u001b[0m\n\u001b[0m\u001b[0;32m    615\u001b[0m         \u001b[1;32mreturn\u001b[0m \u001b[0mself\u001b[0m\u001b[1;33m\u001b[0m\u001b[1;33m\u001b[0m\u001b[0m\n\u001b[0;32m    616\u001b[0m \u001b[1;33m\u001b[0m\u001b[0m\n",
      "\u001b[1;32mD:\\Anaconda 3_Application\\lib\\site-packages\\wordcloud\\wordcloud.py\u001b[0m in \u001b[0;36mgenerate_from_frequencies\u001b[1;34m(self, frequencies, max_font_size)\u001b[0m\n\u001b[0;32m    401\u001b[0m         \u001b[0mfrequencies\u001b[0m \u001b[1;33m=\u001b[0m \u001b[0msorted\u001b[0m\u001b[1;33m(\u001b[0m\u001b[0mfrequencies\u001b[0m\u001b[1;33m.\u001b[0m\u001b[0mitems\u001b[0m\u001b[1;33m(\u001b[0m\u001b[1;33m)\u001b[0m\u001b[1;33m,\u001b[0m \u001b[0mkey\u001b[0m\u001b[1;33m=\u001b[0m\u001b[0mitemgetter\u001b[0m\u001b[1;33m(\u001b[0m\u001b[1;36m1\u001b[0m\u001b[1;33m)\u001b[0m\u001b[1;33m,\u001b[0m \u001b[0mreverse\u001b[0m\u001b[1;33m=\u001b[0m\u001b[1;32mTrue\u001b[0m\u001b[1;33m)\u001b[0m\u001b[1;33m\u001b[0m\u001b[1;33m\u001b[0m\u001b[0m\n\u001b[0;32m    402\u001b[0m         \u001b[1;32mif\u001b[0m \u001b[0mlen\u001b[0m\u001b[1;33m(\u001b[0m\u001b[0mfrequencies\u001b[0m\u001b[1;33m)\u001b[0m \u001b[1;33m<=\u001b[0m \u001b[1;36m0\u001b[0m\u001b[1;33m:\u001b[0m\u001b[1;33m\u001b[0m\u001b[1;33m\u001b[0m\u001b[0m\n\u001b[1;32m--> 403\u001b[1;33m             raise ValueError(\"We need at least 1 word to plot a word cloud, \"\n\u001b[0m\u001b[0;32m    404\u001b[0m                              \"got %d.\" % len(frequencies))\n\u001b[0;32m    405\u001b[0m         \u001b[0mfrequencies\u001b[0m \u001b[1;33m=\u001b[0m \u001b[0mfrequencies\u001b[0m\u001b[1;33m[\u001b[0m\u001b[1;33m:\u001b[0m\u001b[0mself\u001b[0m\u001b[1;33m.\u001b[0m\u001b[0mmax_words\u001b[0m\u001b[1;33m]\u001b[0m\u001b[1;33m\u001b[0m\u001b[1;33m\u001b[0m\u001b[0m\n",
      "\u001b[1;31mValueError\u001b[0m: We need at least 1 word to plot a word cloud, got 0."
     ]
    }
   ],
   "source": [
    "from wordcloud import WordCloud\n",
    "#plotting all the posituve words\n",
    "positive_string=(\" \").join(all_positive_words)\n",
    "wordcloud = WordCloud(width = 1000, height = 500).generate(positive_string)\n",
    "plt.figure(figsize=(10,6))\n",
    "plt.imshow(wordcloud)\n",
    "plt.axis(\"off\")\n",
    "\n",
    "plt.show()"
   ]
  },
  {
   "cell_type": "markdown",
   "metadata": {},
   "source": [
    "#### Negative review WordCloud"
   ]
  },
  {
   "cell_type": "code",
   "execution_count": null,
   "metadata": {
    "scrolled": true
   },
   "outputs": [],
   "source": [
    "from wordcloud import WordCloud\n",
    "#plotting all the negative words\n",
    "negative_string=(\" \").join(all_negative_words)\n",
    "wordcloud = WordCloud(width = 1000, height = 500).generate(negative_string)\n",
    "plt.figure(figsize=(10,6))\n",
    "plt.imshow(wordcloud)\n",
    "plt.axis(\"off\")\n",
    "\n",
    "plt.show()"
   ]
  },
  {
   "cell_type": "markdown",
   "metadata": {},
   "source": [
    "### Processing review Texts"
   ]
  },
  {
   "cell_type": "code",
   "execution_count": null,
   "metadata": {
    "scrolled": true
   },
   "outputs": [],
   "source": [
    "  #Adding a column of CleanedText to the table final which stores the data_corpus after pre-processing the reviews \n",
    "df_dropped_last_n['CleanedText']=preprocessed_reviews \n",
    "    \n",
    "print(\"The length of the data corpus is : {}\".format(len(preprocessed_reviews)))\n",
    "df_dropped_last_n.head(3)"
   ]
  },
  {
   "cell_type": "code",
   "execution_count": null,
   "metadata": {},
   "outputs": [],
   "source": [
    "#Calculating the percentage of Positive and negative words\n",
    "value_count=df_dropped_last_n['Target'].value_counts()\n",
    "value_count\n",
    "print(\"{}% data having positive reviews\".format(round(value_count[1]/df_dropped_last_n.shape[0]*100,2)))\n",
    "print(\"{}% data having negative reviews\".format(round(value_count[0]/df_dropped_last_n.shape[0]*100,2)))#"
   ]
  },
  {
   "cell_type": "markdown",
   "metadata": {},
   "source": [
    "### Split the dataset"
   ]
  },
  {
   "cell_type": "markdown",
   "metadata": {},
   "source": [
    "To train and test model,we are splitting the dataset to 70% for training and 30% for testing the dataset"
   ]
  },
  {
   "cell_type": "code",
   "execution_count": null,
   "metadata": {},
   "outputs": [],
   "source": [
    "#splitting data to train.cv and test\n",
    "from sklearn.model_selection import train_test_split\n",
    "x = df_dropped_last_n['CleanedText']\n",
    "y = df_dropped_last_n['Target']\n",
    "X_train,X_test,y_train,y_test = train_test_split(x,y,test_size=0.3,stratify=y,random_state=100)\n"
   ]
  },
  {
   "cell_type": "markdown",
   "metadata": {},
   "source": [
    "##  Feature Extraction: Bag of Words"
   ]
  },
  {
   "cell_type": "markdown",
   "metadata": {},
   "source": [
    " Word Embedding is a technique to convert words to vectors.The Bag of Words model is the simplest form of text representing a sentence as a a string of numbers.It considers a sparse vector.The approach is very simple and flexible, and can be used in a myriad of ways for extracting features from documents\n",
    " \n",
    "Suppose we have M number of  reviews in our dataset and we want to convert the vectors to  vectors representation. We can use BOW as a method to do this.It creates a dimension for each of the unique word in the data corpus and then it counts how many number of times a word is present in a review. And then this number is placed under that word for a corresponding review. We will get a Sparse Matrix representation for all the worods inthe review.\n",
    "\n"
   ]
  },
  {
   "cell_type": "code",
   "execution_count": null,
   "metadata": {},
   "outputs": [],
   "source": [
    "bow = CountVectorizer()\n",
    "bow.fit(X_train)\n",
    "X_train_bow = bow.transform(X_train)\n",
    "X_test_bow = bow.transform(X_test)\n",
    "bow_features = bow.get_feature_names()\n",
    "print('shape of X_train_bow is {}'.format(X_train_bow.get_shape()))\n",
    "print('shape of X_test_bow is {}'.format(X_test_bow.get_shape()))"
   ]
  },
  {
   "cell_type": "code",
   "execution_count": null,
   "metadata": {},
   "outputs": [],
   "source": [
    "#  function to plot confusion matrix\n",
    "def plot_confusion_matrixes(model,x_train,y_train,x_test,y_test):\n",
    "    cm_train = confusion_matrix(y_train,model.predict(x_train))\n",
    "    cm_test =  confusion_matrix(y_test,model.predict(x_test))\n",
    "    class_label = [\"negative\", \"positive\"]\n",
    "    df_train = pd.DataFrame(cm_train, index = class_label, columns = class_label)\n",
    "    df_test = pd.DataFrame(cm_test, index = class_label, columns = class_label)\n",
    "    f, axes = plt.subplots(1, 2,figsize=(12,4))\n",
    "    #sns.heatmap(df, annot = True, fmt = \"d\",ax=axes[i])\n",
    "\n",
    "    for i in range(2):\n",
    "      df = df_train if i==0 else df_test\n",
    "      sns.heatmap(df, annot = True, fmt = \"d\",ax=axes[i])\n",
    "      axes[i].set_title(f\"Confusion Matrix - {'Train' if i==0 else 'Test'}\")\n",
    "      axes[i].set_xlabel(\"Predicted Label\")\n",
    "      axes[i].set_ylabel(\"True Label\")\n",
    "    plt.show()"
   ]
  },
  {
   "cell_type": "markdown",
   "metadata": {},
   "source": [
    "### 1.XGBOOST On BagOfWords Features"
   ]
  },
  {
   "cell_type": "code",
   "execution_count": null,
   "metadata": {},
   "outputs": [],
   "source": [
    "xg_best_est = XGBClassifier(n_estimators = 120,max_depth=15)\n",
    "xg_best_est = xg_best_est.fit(X_train_bow,y_train)\n",
    "y_predict = xg_best_est.predict(X_test_bow)\n",
    "train_fpr_xg_bow, train_tpr_xg_bow, thresholds = roc_curve(y_train, xg_best_est.predict_proba(X_train_bow)[:,1])\n",
    "test_fpr_xg_bow, test_tpr_xg_bow, thresholds = roc_curve(y_test, xg_best_est.predict_proba(X_test_bow)[:,1])\n"
   ]
  },
  {
   "cell_type": "markdown",
   "metadata": {},
   "source": [
    "### Performance Metric:ROC , AUC ,Confusion Matrix"
   ]
  },
  {
   "cell_type": "code",
   "execution_count": null,
   "metadata": {},
   "outputs": [],
   "source": [
    "plt.grid(True)\n",
    "plt.plot(train_fpr_xg_bow, train_tpr_xg_bow, label=\"train AUC =\"+str(auc(train_fpr_xg_bow, train_tpr_xg_bow)))\n",
    "plt.plot(test_fpr_xg_bow, test_tpr_xg_bow, label=\"test AUC =\"+str(auc(test_fpr_xg_bow, test_tpr_xg_bow)))\n",
    "plt.legend()\n",
    "plt.xlabel(\"fpr\")\n",
    "plt.ylabel(\"tpr\")\n",
    "plt.title(\"ROC CURVE FOR OPTIMAL K\")\n",
    "plt.show()\n",
    "\n",
    "#Area under ROC curve\n",
    "print('Area under train roc {}'.format(auc(train_fpr_xg_bow, train_tpr_xg_bow)))\n",
    "print('Area under test roc {}'.format(auc(test_fpr_xg_bow, test_tpr_xg_bow)))\n",
    "plot_confusion_matrixes(xg_best_est,X_train_bow,y_train,X_test_bow,y_test)"
   ]
  },
  {
   "cell_type": "markdown",
   "metadata": {},
   "source": [
    "From the graph,we can analyse that Xgboosting with the Bag of words model is slightly overfitting.So we tried training and testing on various classifiers"
   ]
  },
  {
   "cell_type": "markdown",
   "metadata": {},
   "source": [
    "# Top 20 Features"
   ]
  },
  {
   "cell_type": "code",
   "execution_count": null,
   "metadata": {},
   "outputs": [],
   "source": [
    "top_words= xg_best_est.feature_importances_\n",
    "features = bow_features\n",
    "top_words = pd.DataFrame(top_words,columns=['coef'],index=features)\n",
    "top = top_words.sort_values(by='coef',ascending=False).head(20)\n",
    "print('Top 20 features are: \\n {}'.format(top))"
   ]
  },
  {
   "cell_type": "markdown",
   "metadata": {},
   "source": [
    "### Performace Metric:Cross-Validation"
   ]
  },
  {
   "cell_type": "code",
   "execution_count": null,
   "metadata": {},
   "outputs": [],
   "source": [
    "from sklearn.model_selection import cross_val_score\n",
    "accuracy= cross_val_score(xg_best_est, X_test_bow, y_test, cv=10, scoring='accuracy')\n",
    "accuracy.mean()"
   ]
  },
  {
   "cell_type": "markdown",
   "metadata": {},
   "source": [
    "### To print false predicted values"
   ]
  },
  {
   "cell_type": "code",
   "execution_count": null,
   "metadata": {},
   "outputs": [],
   "source": [
    "results = pd.DataFrame()\n",
    "results['actual'] = y_test \n",
    "results['prediction'] = y_predict\n",
    "print(results[results['actual']!=results['prediction']])\n"
   ]
  },
  {
   "cell_type": "markdown",
   "metadata": {},
   "source": [
    "## 2.SVM Classifier on Bag of Words feature"
   ]
  },
  {
   "cell_type": "code",
   "execution_count": null,
   "metadata": {},
   "outputs": [],
   "source": [
    "from sklearn.linear_model import SGDClassifier\n",
    "svm_opt = SGDClassifier(alpha=0.001) \n",
    "svm_opt.fit(X_train_bow,y_train)\n",
    "best_est = CalibratedClassifierCV(base_estimator=svm_opt)\n",
    "best_est = best_est.fit(X_train_bow,y_train)\n",
    "train_fpr_svm_op, train_tpr_svm_op, thresholds = roc_curve(y_train, best_est.predict_proba(X_train_bow)[:,1])\n",
    "test_fpr_svm_op, test_tpr_svm_op, thresholds = roc_curve(y_test, best_est.predict_proba(X_test_bow)[:,1])"
   ]
  },
  {
   "cell_type": "markdown",
   "metadata": {},
   "source": [
    "### Performance Metric:ROC , AUC ,Confusion Matrix"
   ]
  },
  {
   "cell_type": "code",
   "execution_count": null,
   "metadata": {},
   "outputs": [],
   "source": [
    "\n",
    "plt.grid(True)\n",
    "plt.plot(train_fpr_svm_op, train_tpr_svm_op, label=\"train AUC =\"+str(auc(train_fpr_svm_op, train_tpr_svm_op)))\n",
    "plt.plot(test_fpr_svm_op, test_tpr_svm_op, label=\"test AUC =\"+str(auc(test_fpr_svm_op, test_tpr_svm_op)))\n",
    "plt.legend()\n",
    "plt.xlabel(\"fpr\")\n",
    "plt.ylabel(\"tpr\")\n",
    "plt.title(\"ROC CURVE FOR OPTIMAL K\")\n",
    "plt.show()\n",
    "\n",
    "#Area under ROC curve\n",
    "print('Area under train roc {}'.format(auc(train_fpr_svm_op, train_tpr_svm_op)))\n",
    "print('Area under test roc {}'.format(auc(test_fpr_svm_op, test_tpr_svm_op)))\n",
    "plot_confusion_matrixes(svm_opt,X_train_bow,y_train,X_test_bow,y_test)"
   ]
  },
  {
   "cell_type": "markdown",
   "metadata": {},
   "source": [
    "From the graph,we can analyse that SVM with the Bag of words model performs better than xgboosting but still it is slightly overfitting."
   ]
  },
  {
   "cell_type": "markdown",
   "metadata": {},
   "source": [
    "### Performace Metric:Cross-Validation"
   ]
  },
  {
   "cell_type": "code",
   "execution_count": null,
   "metadata": {},
   "outputs": [],
   "source": [
    "from sklearn.model_selection import cross_val_score\n",
    "accuracy= cross_val_score(svm_opt, X_test_bow, y_test, cv=10, scoring='accuracy')\n",
    "accuracy.mean()"
   ]
  },
  {
   "cell_type": "markdown",
   "metadata": {},
   "source": [
    "## Feature Extraction:TF-IDF Vectorization"
   ]
  },
  {
   "cell_type": "code",
   "execution_count": null,
   "metadata": {},
   "outputs": [],
   "source": [
    "vectorizer = TfidfVectorizer()\n",
    "vectorizer.fit(X_train)\n",
    "tfidf_features = vectorizer.get_feature_names()\n",
    "# we use the fitted CountVectorizer to convert the text to vector\n",
    "X_train_tfidf = vectorizer.transform(X_train)\n",
    "X_test_tfidf = vectorizer.transform(X_test)"
   ]
  },
  {
   "cell_type": "markdown",
   "metadata": {},
   "source": [
    "## 3. Navie Bayes on TFIDF Vectorization"
   ]
  },
  {
   "cell_type": "code",
   "execution_count": null,
   "metadata": {},
   "outputs": [],
   "source": [
    "from sklearn.metrics import roc_curve, auc\n",
    "from sklearn.naive_bayes import MultinomialNB\n",
    "optimal_alpha = 0.1\n",
    "naive_opt = MultinomialNB(alpha=optimal_alpha)\n",
    "naive_opt = naive_opt.fit(X_train_tfidf,y_train)\n",
    "train_fpr_naive_opt, train_tpr_naive_opt, thresholds = roc_curve(y_train, naive_opt.predict_proba(X_train_tfidf)[:,1])\n",
    "test_fpr_naive_opt, test_tpr_naive_opt, thresholds = roc_curve(y_test, naive_opt.predict_proba(X_test_tfidf)[:,1])"
   ]
  },
  {
   "cell_type": "markdown",
   "metadata": {},
   "source": [
    "### Performance Metric:ROC , AUC ,Confusion Matrix"
   ]
  },
  {
   "cell_type": "code",
   "execution_count": null,
   "metadata": {},
   "outputs": [],
   "source": [
    "plt.grid(True)\n",
    "plt.plot(train_fpr_naive_opt, train_tpr_naive_opt, label=\"train AUC =\"+str(auc(train_fpr_naive_opt, train_tpr_naive_opt)))\n",
    "plt.plot(test_fpr_naive_opt, test_tpr_naive_opt, label=\"test AUC =\"+str(auc(test_fpr_naive_opt, test_tpr_naive_opt)))\n",
    "plt.legend()\n",
    "plt.xlabel(\"fpr\")\n",
    "plt.ylabel(\"tpr\")\n",
    "plt.title(\"ROC CURVE FOR OPTIMAL K\")\n",
    "plt.show()\n",
    "\n",
    "#Area under ROC curve\n",
    "print('Area under train roc {}'.format(auc(train_fpr_naive_opt, train_tpr_naive_opt)))\n",
    "print('Area under test roc {}'.format(auc(test_fpr_naive_opt, test_tpr_naive_opt)))\n",
    "\n",
    "plot_confusion_matrixes(naive_opt,X_train_tfidf,y_train,X_test_tfidf,y_test)"
   ]
  },
  {
   "cell_type": "markdown",
   "metadata": {},
   "source": [
    "From the AUC ROC graph,the naive bayes model with tfidf vectorization also a slighlty overfitting  model  but performs better than Bag of words feature extraction"
   ]
  },
  {
   "cell_type": "markdown",
   "metadata": {},
   "source": [
    "### Performace Metric:Cross-Validation"
   ]
  },
  {
   "cell_type": "code",
   "execution_count": null,
   "metadata": {},
   "outputs": [],
   "source": [
    "from sklearn.model_selection import cross_val_score\n",
    "accuracy= cross_val_score(naive_opt, X_test_tfidf, y_test, cv=10, scoring='accuracy')\n",
    "accuracy.mean()"
   ]
  },
  {
   "cell_type": "markdown",
   "metadata": {},
   "source": [
    "## Feature Extraction: Word2Vec "
   ]
  },
  {
   "cell_type": "markdown",
   "metadata": {},
   "source": [
    "Its is the most powerful technique which takes sematic meaning into consideration.It is one of the type of NLP \n",
    "which can detect synonyms and suggect additional words for partial sentences after training.It considers a dense vectors"
   ]
  },
  {
   "cell_type": "code",
   "execution_count": null,
   "metadata": {},
   "outputs": [],
   "source": [
    "# preprocessed_reviews = X_train.values\n",
    "# train_sentence = [rev.split() for rev in preprocessed_reviews]\n",
    "# # min_count = 5 considers only words that occured atleast 5 times\n",
    "# # size = length of vector\n",
    "# w2v_model_train = Word2Vec(train_sentence,min_count=5,vector_size=50, workers=4)\n",
    "# w2v_words = list(w2v_model_train.wv.key_to_index)"
   ]
  },
  {
   "cell_type": "markdown",
   "metadata": {},
   "source": [
    "### Average Word2Vec"
   ]
  },
  {
   "cell_type": "code",
   "execution_count": null,
   "metadata": {},
   "outputs": [],
   "source": [
    "# #convert Train dataset to vectors\n",
    "# train_reviews = X_train.values\n",
    "# train_sentence = [rev.split() for rev in train_reviews]\n",
    "\n",
    "# sent_vectors_train = []\n",
    "# for sent in tqdm(train_sentence):\n",
    "#     sent_vec = np.zeros(50)\n",
    "#     cnt_words = 0\n",
    "#     for word in sent:\n",
    "#         if word in w2v_words:\n",
    "#             vector = w2v_model_train.wv[word]\n",
    "#             sent_vec += vector\n",
    "#             cnt_words += 1\n",
    "#     if cnt_words != 0:\n",
    "#         sent_vec /= cnt_words\n",
    "#     sent_vectors_train.append(sent_vec)\n",
    "\n",
    "# print(len(sent_vectors_train))\n",
    "# print(len(sent_vectors_train[0]))\n",
    "\n",
    "# #convert Test dataset to vectors\n",
    "# test_reviews = X_test.values\n",
    "# test_sentence = [rev.split() for rev in test_reviews]\n",
    "\n",
    "# sent_vectors_test = []\n",
    "# for sent in tqdm(test_sentence):\n",
    "#     count = 0\n",
    "#     sent_vec = np.zeros(50)\n",
    "#     for word in sent:\n",
    "#         if word in w2v_words:\n",
    "#             vector = w2v_model_train.wv[word]\n",
    "#             sent_vec += vector\n",
    "#             count += 1\n",
    "            \n",
    "#     if count != 0:\n",
    "#         sent_vec /= count\n",
    "#     sent_vectors_test.append(sent_vec)\n",
    "\n",
    "# print(len(sent_vectors_test))\n",
    "#print(len(sent_vectors_test[0]))"
   ]
  },
  {
   "cell_type": "code",
   "execution_count": null,
   "metadata": {},
   "outputs": [],
   "source": [
    "# X_train_avgw2v = np.array(sent_vectors_train)\n",
    "# X_test_avgw2v = np.array(sent_vectors_test)\n",
    "# print('shape of X_train_avgw2v is {}'.format(X_train_avgw2v.shape))\n",
    "# print('shape of X_test_avgw2v is {}'.format(X_test_avgw2v.shape))"
   ]
  },
  {
   "cell_type": "markdown",
   "metadata": {},
   "source": [
    "# SVM with Avgword2vec "
   ]
  },
  {
   "cell_type": "code",
   "execution_count": null,
   "metadata": {},
   "outputs": [],
   "source": [
    "# from sklearn.linear_model import SGDClassifier\n",
    "# svm_opt_w2v = SGDClassifier(alpha=0.001) \n",
    "# svm_opt_w2v.fit(X_train_avgw2v,y_train)\n",
    "# best_est_w2v = CalibratedClassifierCV(base_estimator=svm_opt_w2v)\n",
    "# best_est_w2v = best_est_w2v.fit(X_train_avgw2v,y_train)\n",
    "# train_fpr_svm_w2v, train_tpr_svm_w2v, thresholds = roc_curve(y_train, best_est_w2v.predict_proba(X_train_avgw2v)[:,1])\n",
    "# test_fpr_svm_w2v, test_tpr_svm_w2v, thresholds = roc_curve(y_test, best_est_w2v.predict_proba(X_test_avgw2v)[:,1])"
   ]
  },
  {
   "cell_type": "markdown",
   "metadata": {},
   "source": [
    "# Performance Metric:ROC , AUC ,Confusion Matrix"
   ]
  },
  {
   "cell_type": "code",
   "execution_count": null,
   "metadata": {},
   "outputs": [],
   "source": [
    "\n",
    "# plt.grid(True)\n",
    "# plt.plot(train_fpr_svm_w2v, train_tpr_svm_w2v, label=\"train AUC =\"+str(auc(train_fpr_svm_w2v, train_tpr_svm_w2v)))\n",
    "# plt.plot(test_fpr_svm_w2v, test_tpr_svm_w2v, label=\"test AUC =\"+str(auc(test_fpr_svm_w2v, test_tpr_svm_w2v)))\n",
    "# plt.legend()\n",
    "# plt.xlabel(\"fpr\")\n",
    "# plt.ylabel(\"tpr\")\n",
    "# plt.title(\"ROC CURVE FOR OPTIMAL K\")\n",
    "# plt.show()\n",
    "\n",
    "# #Area under ROC curve\n",
    "# print('Area under train roc {}'.format(auc(train_fpr_svm_w2v, train_tpr_svm_w2v)))\n",
    "# print('Area under test roc {}'.format(auc(test_fpr_svm_w2v, test_tpr_svm_w2v)))\n",
    "# plot_confusion_matrixes(svm_opt_w2v,X_train_avgw2v,y_train,X_test_avgw2v,y_test)"
   ]
  },
  {
   "cell_type": "markdown",
   "metadata": {},
   "source": [
    "From the AUC ROC graph,the SVM model with avgword2vec vectorization produces slight overfitting  model and SVM classifier on Bag of words feature extraction performs equally good."
   ]
  },
  {
   "cell_type": "markdown",
   "metadata": {},
   "source": [
    "### Performace Metric:Cross-Validation"
   ]
  },
  {
   "cell_type": "code",
   "execution_count": null,
   "metadata": {},
   "outputs": [],
   "source": [
    "import warnings\n",
    "warnings.filterwarnings('ignore')\n",
    "from sklearn.model_selection import cross_val_score\n",
    "accuracy= cross_val_score(svm_opt_w2v, X_test_avgw2v, y_test, cv=10, scoring='accuracy')\n",
    "accuracy.mean()"
   ]
  },
  {
   "cell_type": "markdown",
   "metadata": {},
   "source": [
    "## 4.Random Forest on Tfidf feature"
   ]
  },
  {
   "cell_type": "code",
   "execution_count": null,
   "metadata": {},
   "outputs": [],
   "source": [
    "best_est_rf = RandomForestClassifier(n_estimators = 120,max_depth=30)\n",
    "best_est_rf = best_est.fit(X_train_tfidf,y_train)\n",
    "train_fpr_est_rf, train_tpr_est_rf, thresholds = roc_curve(y_train, best_est_rf.predict_proba(X_train_tfidf)[:,1])\n",
    "test_fpr_est_rf, test_tpr_est_rf, thresholds = roc_curve(y_test, best_est_rf.predict_proba(X_test_tfidf)[:,1])"
   ]
  },
  {
   "cell_type": "markdown",
   "metadata": {},
   "source": [
    "### Performance Metric:ROC , AUC ,Confusion Matrix"
   ]
  },
  {
   "cell_type": "code",
   "execution_count": null,
   "metadata": {},
   "outputs": [],
   "source": [
    "plt.grid(True)\n",
    "plt.plot(train_fpr_est_rf, train_tpr_est_rf, label=\"train AUC =\"+str(auc(train_fpr_est_rf, train_tpr_est_rf)))\n",
    "plt.plot(test_fpr_est_rf, test_tpr_est_rf, label=\"test AUC =\"+str(auc(test_fpr_est_rf, test_tpr_est_rf)))\n",
    "plt.legend()\n",
    "plt.xlabel(\"fpr\")\n",
    "plt.ylabel(\"tpr\")\n",
    "plt.title(\"ROC CURVE FOR OPTIMAL K\")\n",
    "plt.show()\n",
    "\n",
    "#Area under ROC curve\n",
    "print('Area under train roc {}'.format(auc(train_fpr_est_rf, train_tpr_est_rf)))\n",
    "print('Area under test roc {}'.format(auc(test_fpr_est_rf, test_tpr_est_rf)))\n",
    "plot_confusion_matrixes(best_est_rf,X_train_tfidf,y_train,X_test_tfidf,y_test)"
   ]
  },
  {
   "cell_type": "markdown",
   "metadata": {},
   "source": [
    "From the AUC ROC graph,the Random Forest model with TF-idf vectorization produces good fit model and performs well \n"
   ]
  },
  {
   "cell_type": "markdown",
   "metadata": {},
   "source": [
    "### Performace Metric:Cross-Validation"
   ]
  },
  {
   "cell_type": "code",
   "execution_count": null,
   "metadata": {},
   "outputs": [],
   "source": [
    "from sklearn.model_selection import cross_val_score\n",
    "accuracy= cross_val_score(best_est_rf, X_test_tfidf, y_test, cv=10, scoring='accuracy')\n",
    "accuracy.mean()"
   ]
  },
  {
   "cell_type": "markdown",
   "metadata": {},
   "source": [
    "### Testing"
   ]
  },
  {
   "cell_type": "markdown",
   "metadata": {},
   "source": [
    "### Test the Xgboostiong  classifier using BOW"
   ]
  },
  {
   "cell_type": "code",
   "execution_count": null,
   "metadata": {},
   "outputs": [],
   "source": [
    "review= 'product is not satisfying'\n",
    "print(review)\n",
    "# vectorizing\n",
    "review_vector = bow.transform([review]) \n",
    "#prediction\n",
    "print(xg_best_est.predict(review_vector))"
   ]
  },
  {
   "cell_type": "markdown",
   "metadata": {},
   "source": [
    "### Test the Naive bayes classifier on Tfidf"
   ]
  },
  {
   "cell_type": "code",
   "execution_count": null,
   "metadata": {},
   "outputs": [],
   "source": [
    "review= 'product is satisfying'\n",
    "print(review)\n",
    "# vectorizing\n",
    "review_vector = vectorizer.transform([review]) \n",
    "#prediction\n",
    "print(naive_opt.predict(review_vector))"
   ]
  },
  {
   "cell_type": "markdown",
   "metadata": {},
   "source": [
    "### Test the Random Forest classifier on Tfidf"
   ]
  },
  {
   "cell_type": "code",
   "execution_count": null,
   "metadata": {},
   "outputs": [],
   "source": [
    "review= 'product is not satisfying'\n",
    "print(review)\n",
    "# vectorizing\n",
    "review_vector = vectorizer.transform([review]) \n",
    "#prediction\n",
    "print(best_est_rf.predict(review_vector))"
   ]
  },
  {
   "cell_type": "code",
   "execution_count": null,
   "metadata": {},
   "outputs": [],
   "source": [
    "# def test_w2v(review):\n",
    "#     preprocessed_reviews = review\n",
    "#     train_sentence = [rev.split() for rev in preprocessed_reviews]\n",
    "#     # min_count = 5 considers only words that occured atleast 5 times\n",
    "#     # size = length of vector\n",
    "#     w2v_model_train = Word2Vec(train_sentence,min_count=5,vector_size=50, workers=4)\n",
    "#     w2v_words = list(w2v_model_train.wv.key_to_index)\n",
    "    \n",
    "#     #convert Test dataset to vectors\n",
    "#     test_reviews = review\n",
    "#     test_sentence = [rev.split() for rev in test_reviews]\n",
    "\n",
    "#     sent_vectors_test = []\n",
    "#     for sent in tqdm(test_sentence):\n",
    "#         count = 0\n",
    "#         sent_vec = np.zeros(50)\n",
    "#         for word in sent:\n",
    "#             if word in w2v_words:\n",
    "#                 vector = w2v_model_train.wv[word]\n",
    "#                 sent_vec += vector\n",
    "#                 count += 1\n",
    "            \n",
    "#         if count != 0:\n",
    "#             sent_vec /= count\n",
    "#         sent_vectors_test.append(sent_vec)\n",
    "\n",
    "#     print(len(sent_vectors_test))\n",
    "#     print(len(sent_vectors_test[0]))\n",
    "#     X_test_avgw2v = np.array(sent_vectors_test)\n",
    "    \n",
    "#     return X_test_avgw2v"
   ]
  },
  {
   "cell_type": "markdown",
   "metadata": {},
   "source": [
    "### Test the svm classifier on Avgw2v"
   ]
  },
  {
   "cell_type": "code",
   "execution_count": null,
   "metadata": {},
   "outputs": [],
   "source": [
    "review= 'product is not satisfying'\n",
    "print(review)\n",
    "# vectorizing\n",
    "review_vector = test_w2v(review) \n",
    "#prediction\n",
    "print(best_est.predict(review_vector))"
   ]
  },
  {
   "cell_type": "code",
   "execution_count": null,
   "metadata": {},
   "outputs": [],
   "source": []
  },
  {
   "cell_type": "markdown",
   "metadata": {},
   "source": [
    "## Conclusion"
   ]
  },
  {
   "cell_type": "code",
   "execution_count": null,
   "metadata": {},
   "outputs": [],
   "source": [
    "from prettytable import PrettyTable\n",
    "    \n",
    "tb = PrettyTable()\n",
    "\n",
    "tb.field_names = [\"Vector\",\"Algorithm\",\"Train AUC\", \"Test AUC\"]\n",
    "tb.add_row([\"bow\",\"SVM\",auc(train_fpr_svm_op, train_tpr_svm_op),auc(train_fpr_svm_op, train_tpr_svm_op)])\n",
    "tb.add_row([\"bow\",\"xgboost\",auc(train_fpr_xg_bow, train_tpr_xg_bow),auc(test_fpr_xg_bow, test_tpr_xg_bow)])\n",
    "tb.add_row([\"tfidf\",\"Random_Forest\",auc(train_fpr_est_rf, train_tpr_est_rf),auc(test_fpr_est_rf, test_tpr_est_rf)])\n",
    "tb.add_row([\"tfidf\",\"NaiveBayes\",auc(train_fpr_naive_opt, train_tpr_naive_opt), auc(test_fpr_naive_opt, test_tpr_naive_opt)])\n",
    "tb.add_row([\"Average_w2v\",\"SVM\",auc(train_fpr_svm_w2v, train_tpr_svm_w2v), auc(test_fpr_svm_w2v, test_tpr_svm_w2v)])\n",
    "print(tb)"
   ]
  },
  {
   "cell_type": "markdown",
   "metadata": {},
   "source": [
    "After implementing several advanced machine learning classifier we can see that Random Forest on tfidf\n",
    "and SVM on bag of word features gives a more generalized model."
   ]
  }
 ],
 "metadata": {
  "kernelspec": {
   "display_name": "Python 3",
   "language": "python",
   "name": "python3"
  },
  "language_info": {
   "codemirror_mode": {
    "name": "ipython",
    "version": 3
   },
   "file_extension": ".py",
   "mimetype": "text/x-python",
   "name": "python",
   "nbconvert_exporter": "python",
   "pygments_lexer": "ipython3",
   "version": "3.8.3"
  }
 },
 "nbformat": 4,
 "nbformat_minor": 4
}
